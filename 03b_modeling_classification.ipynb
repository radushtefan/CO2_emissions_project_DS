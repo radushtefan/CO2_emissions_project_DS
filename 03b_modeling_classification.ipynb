{
 "cells": [
  {
   "cell_type": "code",
   "execution_count": 2,
   "id": "7dee00de",
   "metadata": {},
   "outputs": [
    {
     "name": "stdout",
     "output_type": "stream",
     "text": [
      "Shape: (160588, 93)\n",
      "cnit            object\n",
      "power_hp       float64\n",
      "power_admin      int64\n",
      "cons_urban     float64\n",
      "cons_extra     float64\n",
      "                ...   \n",
      "fuel_GN           bool\n",
      "fuel_GN/ES        bool\n",
      "fuel_GO           bool\n",
      "fuel_GP/ES        bool\n",
      "co2_class       object\n",
      "Length: 93, dtype: object\n",
      "co2_class\n",
      "medium    56038\n",
      "low       54337\n",
      "high      50213\n",
      "Name: count, dtype: int64\n",
      "co2_class\n",
      "medium    0.348955\n",
      "low       0.338363\n",
      "high      0.312682\n",
      "Name: proportion, dtype: float64\n"
     ]
    }
   ],
   "source": [
    "import pandas as pd\n",
    "\n",
    "# Load dataset\n",
    "df = pd.read_csv(\"../Data/cleaned_dataset_final.csv\")\n",
    "\n",
    "# Preview structure\n",
    "print(f\"Shape: {df.shape}\")\n",
    "print(df.dtypes)\n",
    "print(df[\"co2_class\"].value_counts())\n",
    "print(df[\"co2_class\"].value_counts(normalize=True))\n"
   ]
  },
  {
   "cell_type": "code",
   "execution_count": 3,
   "id": "cfa5a428",
   "metadata": {},
   "outputs": [],
   "source": [
    "# List of columns to keep\n",
    "keep_cols = [\"power_to_weight\", \"cons_mixed\", \"hybrid\"]\n",
    "\n",
    "# Keep all encoded dummies (bool columns) — assuming they start with brand_, gearbox_, fuel_\n",
    "encoded_cols = [col for col in df.columns if col.startswith((\"brand_\", \"gearbox_\", \"fuel_\"))]\n",
    "\n",
    "# Final feature set\n",
    "selected_features = keep_cols + encoded_cols\n",
    "\n",
    "# Prepare final X and y\n",
    "X = df[selected_features]\n",
    "y = df[\"co2_class\"]\n"
   ]
  },
  {
   "cell_type": "code",
   "execution_count": 4,
   "id": "17ec7c45",
   "metadata": {},
   "outputs": [],
   "source": [
    "from sklearn.model_selection import train_test_split\n",
    "\n",
    "X_train, X_test, y_train, y_test = train_test_split(\n",
    "    X, y, stratify=y, test_size=0.2, random_state=42\n",
    ")"
   ]
  },
  {
   "cell_type": "code",
   "execution_count": 5,
   "id": "c25cc7b1",
   "metadata": {},
   "outputs": [],
   "source": [
    "from sklearn.preprocessing import StandardScaler\n",
    "\n",
    "scaler = StandardScaler()\n",
    "X_train_scaled = scaler.fit_transform(X_train)\n",
    "X_test_scaled = scaler.transform(X_test)"
   ]
  },
  {
   "cell_type": "code",
   "execution_count": null,
   "id": "1519627e",
   "metadata": {},
   "outputs": [
    {
     "data": {
      "application/vnd.jupyter.widget-view+json": {
       "model_id": "22dce12f12d64af19b56acfdbeb70822",
       "version_major": 2,
       "version_minor": 0
      },
      "text/plain": [
       "  0%|          | 0/31 [00:00<?, ?it/s]"
      ]
     },
     "metadata": {},
     "output_type": "display_data"
    },
    {
     "name": "stderr",
     "output_type": "stream",
     "text": [
      "  File \"C:\\Users\\qr02245\\AppData\\Local\\Packages\\PythonSoftwareFoundation.Python.3.11_qbz5n2kfra8p0\\LocalCache\\local-packages\\Python311\\site-packages\\joblib\\externals\\loky\\backend\\context.py\", line 282, in _count_physical_cores\n",
      "    raise ValueError(f\"found {cpu_count_physical} physical cores < 1\")\n"
     ]
    }
   ],
   "source": [
    "from lazypredict.Supervised import LazyClassifier\n",
    "\n",
    "clf = LazyClassifier(verbose=0, ignore_warnings=True, custom_metric=None)\n",
    "models, predictions = clf.fit(X_train_scaled, X_test_scaled, y_train, y_test)\n",
    "\n",
    "import pandas as pd\n",
    "pd.set_option('display.max_rows', 50)\n",
    "print(models.sort_values(\"Accuracy\", ascending=False))"
   ]
  }
 ],
 "metadata": {
  "kernelspec": {
   "display_name": "Python 3",
   "language": "python",
   "name": "python3"
  },
  "language_info": {
   "codemirror_mode": {
    "name": "ipython",
    "version": 3
   },
   "file_extension": ".py",
   "mimetype": "text/x-python",
   "name": "python",
   "nbconvert_exporter": "python",
   "pygments_lexer": "ipython3",
   "version": "3.11.9"
  }
 },
 "nbformat": 4,
 "nbformat_minor": 5
}
